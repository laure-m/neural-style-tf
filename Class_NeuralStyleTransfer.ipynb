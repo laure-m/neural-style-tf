{
  "nbformat": 4,
  "nbformat_minor": 0,
  "metadata": {
    "colab": {
      "name": "Class_NeuralStyleTransfer.ipynb",
      "provenance": [],
      "collapsed_sections": [],
      "machine_shape": "hm",
      "include_colab_link": true
    },
    "kernelspec": {
      "name": "python3",
      "display_name": "Python 3"
    },
    "accelerator": "GPU"
  },
  "cells": [
    {
      "cell_type": "markdown",
      "metadata": {
        "id": "view-in-github",
        "colab_type": "text"
      },
      "source": [
        "<a href=\"https://colab.research.google.com/github/laure-m/neural-style-tf/blob/main/Class_NeuralStyleTransfer.ipynb\" target=\"_parent\"><img src=\"https://colab.research.google.com/assets/colab-badge.svg\" alt=\"Open In Colab\"/></a>"
      ]
    },
    {
      "cell_type": "markdown",
      "metadata": {
        "id": "QMufyFRUfCwd"
      },
      "source": [
        "# STUDIO NEURAL STYLE TRANSFER NOTEBOOK"
      ]
    },
    {
      "cell_type": "markdown",
      "metadata": {
        "id": "3MD6jFZyfIjH"
      },
      "source": [
        "**IMPORTANT:** Read all text before running the cell as some directions can change parameters or might download to the incorrect folder \n",
        "Read the output of each cell after you run it > if you get an error or something didnt load or it cant find a folder or image then SOMETHING IS WRONG.    \n",
        "     \n",
        "#**PART 00 | DOWNLOAD THINGS**\n",
        "Download the neural-style-tf repository from my GitHub, extract it and upload it to your Google Drive. \n",
        "\n",
        "You then need to Download the VGG-19 network (can be found https://www.robots.ox.ac.uk/~vgg/research/very_deep/). After downloading, copy the weights file *imagenet-vgg-verydeep-19.mat* directly into the project directory (Inside neural-style-transfer folder)"
      ]
    },
    {
      "cell_type": "markdown",
      "metadata": {
        "id": "_HqfXczjfL4C"
      },
      "source": [
        "#**PART 01 | THE SETUP**"
      ]
    },
    {
      "cell_type": "code",
      "metadata": {
        "id": "2Iqyfozce_as",
        "cellView": "form",
        "colab": {
          "base_uri": "https://localhost:8080/"
        },
        "outputId": "d5a57a58-9e2e-4874-b03b-96621757c7fc"
      },
      "source": [
        "#@title **STEP 00:**  Mount to your Google Drive\n",
        "from google.colab import drive\n",
        "drive.mount('/content/drive')"
      ],
      "execution_count": null,
      "outputs": [
        {
          "output_type": "stream",
          "name": "stdout",
          "text": [
            "Mounted at /content/drive\n"
          ]
        }
      ]
    },
    {
      "cell_type": "code",
      "metadata": {
        "id": "KXKJe7gwfvCv",
        "cellView": "form",
        "colab": {
          "base_uri": "https://localhost:8080/"
        },
        "outputId": "1ff5e161-6cf7-4119-9d31-a4f31c4f0eef"
      },
      "source": [
        "#@title **STEP 01:**  Change Directory to the neural-style-tf-master folder\n",
        "%cd /content/drive/My\\ Drive/neural-style-tf-master\n",
        "\n",
        "#%cd /content/drive/MyDrive/neural-style-tf-master"
      ],
      "execution_count": null,
      "outputs": [
        {
          "output_type": "stream",
          "name": "stdout",
          "text": [
            "/content/drive/My Drive/neural-style-tf-master\n"
          ]
        }
      ]
    },
    {
      "cell_type": "code",
      "metadata": {
        "id": "WJe71S6gbzt3",
        "cellView": "form",
        "colab": {
          "base_uri": "https://localhost:8080/"
        },
        "outputId": "3844715b-d187-4fdc-cc07-6b38e81d87a3"
      },
      "source": [
        "#@title **STEP 02:** Check Your Equipment\n",
        "#@markdown This cell connects to Google to tell us which GPU they gave us\n",
        "!nvidia-smi"
      ],
      "execution_count": null,
      "outputs": [
        {
          "output_type": "stream",
          "name": "stdout",
          "text": [
            "Wed Jul  6 17:52:32 2022       \n",
            "+-----------------------------------------------------------------------------+\n",
            "| NVIDIA-SMI 460.32.03    Driver Version: 460.32.03    CUDA Version: 11.2     |\n",
            "|-------------------------------+----------------------+----------------------+\n",
            "| GPU  Name        Persistence-M| Bus-Id        Disp.A | Volatile Uncorr. ECC |\n",
            "| Fan  Temp  Perf  Pwr:Usage/Cap|         Memory-Usage | GPU-Util  Compute M. |\n",
            "|                               |                      |               MIG M. |\n",
            "|===============================+======================+======================|\n",
            "|   0  Tesla V100-SXM2...  Off  | 00000000:00:04.0 Off |                    0 |\n",
            "| N/A   36C    P0    23W / 300W |      0MiB / 16160MiB |      0%      Default |\n",
            "|                               |                      |                  N/A |\n",
            "+-------------------------------+----------------------+----------------------+\n",
            "                                                                               \n",
            "+-----------------------------------------------------------------------------+\n",
            "| Processes:                                                                  |\n",
            "|  GPU   GI   CI        PID   Type   Process name                  GPU Memory |\n",
            "|        ID   ID                                                   Usage      |\n",
            "|=============================================================================|\n",
            "|  No running processes found                                                 |\n",
            "+-----------------------------------------------------------------------------+\n"
          ]
        }
      ]
    },
    {
      "cell_type": "code",
      "metadata": {
        "id": "QOda9jQw-2mD",
        "cellView": "form",
        "colab": {
          "base_uri": "https://localhost:8080/",
          "height": 35
        },
        "outputId": "e0be621a-a616-4108-fe04-e57e45132992"
      },
      "source": [
        "#@title **STEP 03:** Install Required Libraries\n",
        "import IPython\n",
        "from google.colab import output\n",
        "\n",
        "display(IPython.display.Javascript('''\n",
        " function ClickConnect(){\n",
        "   btn = document.querySelector(\"colab-connect-button\")\n",
        "   if (btn != null){\n",
        "     console.log(\"Click colab-connect-button\"); \n",
        "     btn.click() \n",
        "     }\n",
        "   \n",
        "   btn = document.getElementById('ok')\n",
        "   if (btn != null){\n",
        "     console.log(\"Click reconnect\"); \n",
        "     btn.click() \n",
        "     }\n",
        "  }\n",
        "  \n",
        "setInterval(ClickConnect,60000)\n",
        "'''))\n",
        "\n",
        "print(\"Done.\")"
      ],
      "execution_count": null,
      "outputs": [
        {
          "output_type": "display_data",
          "data": {
            "text/plain": [
              "<IPython.core.display.Javascript object>"
            ],
            "application/javascript": [
              "\n",
              " function ClickConnect(){\n",
              "   btn = document.querySelector(\"colab-connect-button\")\n",
              "   if (btn != null){\n",
              "     console.log(\"Click colab-connect-button\"); \n",
              "     btn.click() \n",
              "     }\n",
              "   \n",
              "   btn = document.getElementById('ok')\n",
              "   if (btn != null){\n",
              "     console.log(\"Click reconnect\"); \n",
              "     btn.click() \n",
              "     }\n",
              "  }\n",
              "  \n",
              "setInterval(ClickConnect,60000)\n"
            ]
          },
          "metadata": {}
        },
        {
          "output_type": "stream",
          "name": "stdout",
          "text": [
            "Done.\n"
          ]
        }
      ]
    },
    {
      "cell_type": "code",
      "metadata": {
        "id": "EJQz21rDgKen",
        "cellView": "form",
        "colab": {
          "base_uri": "https://localhost:8080/"
        },
        "outputId": "b97745fd-8cd3-47ed-9a03-4bce929221f3"
      },
      "source": [
        "#@title **STEP 04:** Set Tensorflow to 1.15\n",
        "%tensorflow_version 1.x"
      ],
      "execution_count": null,
      "outputs": [
        {
          "output_type": "stream",
          "name": "stdout",
          "text": [
            "TensorFlow 1.x selected.\n"
          ]
        }
      ]
    },
    {
      "cell_type": "markdown",
      "metadata": {
        "id": "wLmjZai-ggoj"
      },
      "source": [
        "#**PART 02 | SINGLE IMAGE**"
      ]
    },
    {
      "cell_type": "markdown",
      "metadata": {
        "id": "iSlIsz-hkBHA"
      },
      "source": [
        "*Arguments You Can Change*\n",
        "\n",
        "*   `content_img`: Filename of the content image. Example: lion.jpg\n",
        "*   `content_img_dir`: Relative or absolute directory path to the content image. Default: ./image_input\n",
        "*   `style_imgs`: Filenames of the style images. To use multiple style images, pass a space-separated list. Ex: --style_imgs starry-night.jpg\n",
        "-`style_imgs_weights`: The blending weights for each style image. Default: 1.0 (assumes only 1 style image)\n",
        "-`style_imgs_dir`: Relative or absolute directory path to the style images. Default: ./styles\n",
        "-`init_img_type`: Image used to initialize the network. Choices: content, random, style. Default: content\n",
        "-`max_size`: Maximum width or height of the input images. Default: 512\n",
        "-`content_weight`: Weight for the content loss function. Default: 5e0\n",
        "-`style_weight`: Weight for the style loss function. Default: 1e4\n",
        "-`original_colors`: Boolean flag indicating if the style is transferred but not the colors.\n",
        "-`seed`: Seed for the random number generator. Default: 0\n",
        "-`img_output_dir`: Directory to write output to. Default: ./image_output\n",
        "-`img_name`: Filename of the output image. Default: result\n",
        "-`verbose`: Boolean flag indicating if statements should be printed to the console.\n",
        "-`max_iterations`: Max number of iterations for the Adam or L-BFGS optimizer. Default: 1000"
      ]
    },
    {
      "cell_type": "markdown",
      "metadata": {
        "id": "SzZP8fJTi1F7"
      },
      "source": [
        "**STEP 05:** Set Parameters for an Image and Run it   \n",
        "The output image will show up in the image_output folder."
      ]
    },
    {
      "cell_type": "markdown",
      "source": [
        "7/6/22 --content_weight 5 --style_weight 1000 --max_size 512  --max_iterations 800"
      ],
      "metadata": {
        "id": "QsG4Sjq1rlii"
      }
    },
    {
      "cell_type": "code",
      "metadata": {
        "id": "WvwbU1rbgVUv",
        "colab": {
          "base_uri": "https://localhost:8080/"
        },
        "outputId": "8533ee60-d455-4899-cdc7-5b04863e012c"
      },
      "source": [
        "!python neural_style_edit.py --content_img seaweed_00001.png --style_imgs 161.png --content_weight 5 --style_weight 2000 --max_size 512  --max_iterations 800    --verbose"
      ],
      "execution_count": null,
      "outputs": [
        {
          "output_type": "stream",
          "name": "stdout",
          "text": [
            "\n",
            "---- RENDERING SINGLE IMAGE ----\n",
            "\n",
            "WARNING:tensorflow:From neural_style_edit.py:550: The name tf.Session is deprecated. Please use tf.compat.v1.Session instead.\n",
            "\n",
            "2022-07-06 18:25:22.635481: I tensorflow/stream_executor/platform/default/dso_loader.cc:44] Successfully opened dynamic library libcuda.so.1\n",
            "2022-07-06 18:25:22.661798: I tensorflow/stream_executor/cuda/cuda_gpu_executor.cc:983] successful NUMA node read from SysFS had negative value (-1), but there must be at least one NUMA node, so returning NUMA node zero\n",
            "2022-07-06 18:25:22.662394: I tensorflow/core/common_runtime/gpu/gpu_device.cc:1639] Found device 0 with properties: \n",
            "name: Tesla V100-SXM2-16GB major: 7 minor: 0 memoryClockRate(GHz): 1.53\n",
            "pciBusID: 0000:00:04.0\n",
            "2022-07-06 18:25:22.662694: I tensorflow/stream_executor/platform/default/dso_loader.cc:44] Successfully opened dynamic library libcudart.so.10.1\n",
            "2022-07-06 18:25:22.664295: I tensorflow/stream_executor/platform/default/dso_loader.cc:44] Successfully opened dynamic library libcublas.so.10\n",
            "2022-07-06 18:25:22.665217: I tensorflow/stream_executor/platform/default/dso_loader.cc:44] Successfully opened dynamic library libcufft.so.10\n",
            "2022-07-06 18:25:22.665534: I tensorflow/stream_executor/platform/default/dso_loader.cc:44] Successfully opened dynamic library libcurand.so.10\n",
            "2022-07-06 18:25:22.667240: I tensorflow/stream_executor/platform/default/dso_loader.cc:44] Successfully opened dynamic library libcusolver.so.10\n",
            "2022-07-06 18:25:22.667960: I tensorflow/stream_executor/platform/default/dso_loader.cc:44] Successfully opened dynamic library libcusparse.so.10\n",
            "2022-07-06 18:25:22.671236: I tensorflow/stream_executor/platform/default/dso_loader.cc:44] Successfully opened dynamic library libcudnn.so.7\n",
            "2022-07-06 18:25:22.671358: I tensorflow/stream_executor/cuda/cuda_gpu_executor.cc:983] successful NUMA node read from SysFS had negative value (-1), but there must be at least one NUMA node, so returning NUMA node zero\n",
            "2022-07-06 18:25:22.671996: I tensorflow/stream_executor/cuda/cuda_gpu_executor.cc:983] successful NUMA node read from SysFS had negative value (-1), but there must be at least one NUMA node, so returning NUMA node zero\n",
            "2022-07-06 18:25:22.672513: I tensorflow/core/common_runtime/gpu/gpu_device.cc:1767] Adding visible gpu devices: 0\n",
            "2022-07-06 18:25:22.672999: I tensorflow/core/platform/cpu_feature_guard.cc:142] Your CPU supports instructions that this TensorFlow binary was not compiled to use: AVX512F\n",
            "2022-07-06 18:25:22.677550: I tensorflow/core/platform/profile_utils/cpu_utils.cc:94] CPU Frequency: 2000179999 Hz\n",
            "2022-07-06 18:25:22.679004: I tensorflow/compiler/xla/service/service.cc:168] XLA service 0x31fd480 initialized for platform Host (this does not guarantee that XLA will be used). Devices:\n",
            "2022-07-06 18:25:22.679039: I tensorflow/compiler/xla/service/service.cc:176]   StreamExecutor device (0): Host, Default Version\n",
            "2022-07-06 18:25:22.755379: I tensorflow/stream_executor/cuda/cuda_gpu_executor.cc:983] successful NUMA node read from SysFS had negative value (-1), but there must be at least one NUMA node, so returning NUMA node zero\n",
            "2022-07-06 18:25:22.756494: I tensorflow/compiler/xla/service/service.cc:168] XLA service 0x31fd640 initialized for platform CUDA (this does not guarantee that XLA will be used). Devices:\n",
            "2022-07-06 18:25:22.756535: I tensorflow/compiler/xla/service/service.cc:176]   StreamExecutor device (0): Tesla V100-SXM2-16GB, Compute Capability 7.0\n",
            "2022-07-06 18:25:22.756758: I tensorflow/stream_executor/cuda/cuda_gpu_executor.cc:983] successful NUMA node read from SysFS had negative value (-1), but there must be at least one NUMA node, so returning NUMA node zero\n",
            "2022-07-06 18:25:22.757312: I tensorflow/core/common_runtime/gpu/gpu_device.cc:1639] Found device 0 with properties: \n",
            "name: Tesla V100-SXM2-16GB major: 7 minor: 0 memoryClockRate(GHz): 1.53\n",
            "pciBusID: 0000:00:04.0\n",
            "2022-07-06 18:25:22.757385: I tensorflow/stream_executor/platform/default/dso_loader.cc:44] Successfully opened dynamic library libcudart.so.10.1\n",
            "2022-07-06 18:25:22.757405: I tensorflow/stream_executor/platform/default/dso_loader.cc:44] Successfully opened dynamic library libcublas.so.10\n",
            "2022-07-06 18:25:22.757419: I tensorflow/stream_executor/platform/default/dso_loader.cc:44] Successfully opened dynamic library libcufft.so.10\n",
            "2022-07-06 18:25:22.757435: I tensorflow/stream_executor/platform/default/dso_loader.cc:44] Successfully opened dynamic library libcurand.so.10\n",
            "2022-07-06 18:25:22.757449: I tensorflow/stream_executor/platform/default/dso_loader.cc:44] Successfully opened dynamic library libcusolver.so.10\n",
            "2022-07-06 18:25:22.757461: I tensorflow/stream_executor/platform/default/dso_loader.cc:44] Successfully opened dynamic library libcusparse.so.10\n",
            "2022-07-06 18:25:22.757476: I tensorflow/stream_executor/platform/default/dso_loader.cc:44] Successfully opened dynamic library libcudnn.so.7\n",
            "2022-07-06 18:25:22.757537: I tensorflow/stream_executor/cuda/cuda_gpu_executor.cc:983] successful NUMA node read from SysFS had negative value (-1), but there must be at least one NUMA node, so returning NUMA node zero\n",
            "2022-07-06 18:25:22.758108: I tensorflow/stream_executor/cuda/cuda_gpu_executor.cc:983] successful NUMA node read from SysFS had negative value (-1), but there must be at least one NUMA node, so returning NUMA node zero\n",
            "2022-07-06 18:25:22.758632: I tensorflow/core/common_runtime/gpu/gpu_device.cc:1767] Adding visible gpu devices: 0\n",
            "2022-07-06 18:25:22.758709: I tensorflow/stream_executor/platform/default/dso_loader.cc:44] Successfully opened dynamic library libcudart.so.10.1\n",
            "2022-07-06 18:25:22.759738: I tensorflow/core/common_runtime/gpu/gpu_device.cc:1180] Device interconnect StreamExecutor with strength 1 edge matrix:\n",
            "2022-07-06 18:25:22.759761: I tensorflow/core/common_runtime/gpu/gpu_device.cc:1186]      0 \n",
            "2022-07-06 18:25:22.759768: I tensorflow/core/common_runtime/gpu/gpu_device.cc:1199] 0:   N \n",
            "2022-07-06 18:25:22.759868: I tensorflow/stream_executor/cuda/cuda_gpu_executor.cc:983] successful NUMA node read from SysFS had negative value (-1), but there must be at least one NUMA node, so returning NUMA node zero\n",
            "2022-07-06 18:25:22.760433: I tensorflow/stream_executor/cuda/cuda_gpu_executor.cc:983] successful NUMA node read from SysFS had negative value (-1), but there must be at least one NUMA node, so returning NUMA node zero\n",
            "2022-07-06 18:25:22.760975: W tensorflow/core/common_runtime/gpu/gpu_bfc_allocator.cc:39] Overriding allow_growth setting because the TF_FORCE_GPU_ALLOW_GROWTH environment variable is set. Original config value was 0.\n",
            "2022-07-06 18:25:22.761012: I tensorflow/core/common_runtime/gpu/gpu_device.cc:1325] Created TensorFlow device (/job:localhost/replica:0/task:0/device:GPU:0 with 15060 MB memory) -> physical GPU (device: 0, name: Tesla V100-SXM2-16GB, pci bus id: 0000:00:04.0, compute capability: 7.0)\n",
            "\n",
            "BUILDING VGG-19 NETWORK\n",
            "loading model weights...\n",
            "constructing layers...\n",
            "LAYER GROUP 1\n",
            "--conv1_1 | shape=(1, 244, 512, 64) | weights_shape=(3, 3, 3, 64)\n",
            "--relu1_1 | shape=(1, 244, 512, 64) | bias_shape=(64,)\n",
            "--conv1_2 | shape=(1, 244, 512, 64) | weights_shape=(3, 3, 64, 64)\n",
            "--relu1_2 | shape=(1, 244, 512, 64) | bias_shape=(64,)\n",
            "WARNING:tensorflow:From neural_style_edit.py:325: The name tf.nn.avg_pool is deprecated. Please use tf.nn.avg_pool2d instead.\n",
            "\n",
            "--pool1   | shape=(1, 122, 256, 64)\n",
            "LAYER GROUP 2\n",
            "--conv2_1 | shape=(1, 122, 256, 128) | weights_shape=(3, 3, 64, 128)\n",
            "--relu2_1 | shape=(1, 122, 256, 128) | bias_shape=(128,)\n",
            "--conv2_2 | shape=(1, 122, 256, 128) | weights_shape=(3, 3, 128, 128)\n",
            "--relu2_2 | shape=(1, 122, 256, 128) | bias_shape=(128,)\n",
            "--pool2   | shape=(1, 61, 128, 128)\n",
            "LAYER GROUP 3\n",
            "--conv3_1 | shape=(1, 61, 128, 256) | weights_shape=(3, 3, 128, 256)\n",
            "--relu3_1 | shape=(1, 61, 128, 256) | bias_shape=(256,)\n",
            "--conv3_2 | shape=(1, 61, 128, 256) | weights_shape=(3, 3, 256, 256)\n",
            "--relu3_2 | shape=(1, 61, 128, 256) | bias_shape=(256,)\n",
            "--conv3_3 | shape=(1, 61, 128, 256) | weights_shape=(3, 3, 256, 256)\n",
            "--relu3_3 | shape=(1, 61, 128, 256) | bias_shape=(256,)\n",
            "--conv3_4 | shape=(1, 61, 128, 256) | weights_shape=(3, 3, 256, 256)\n",
            "--relu3_4 | shape=(1, 61, 128, 256) | bias_shape=(256,)\n",
            "--pool3   | shape=(1, 31, 64, 256)\n",
            "LAYER GROUP 4\n",
            "--conv4_1 | shape=(1, 31, 64, 512) | weights_shape=(3, 3, 256, 512)\n",
            "--relu4_1 | shape=(1, 31, 64, 512) | bias_shape=(512,)\n",
            "--conv4_2 | shape=(1, 31, 64, 512) | weights_shape=(3, 3, 512, 512)\n",
            "--relu4_2 | shape=(1, 31, 64, 512) | bias_shape=(512,)\n",
            "--conv4_3 | shape=(1, 31, 64, 512) | weights_shape=(3, 3, 512, 512)\n",
            "--relu4_3 | shape=(1, 31, 64, 512) | bias_shape=(512,)\n",
            "--conv4_4 | shape=(1, 31, 64, 512) | weights_shape=(3, 3, 512, 512)\n",
            "--relu4_4 | shape=(1, 31, 64, 512) | bias_shape=(512,)\n",
            "--pool4   | shape=(1, 16, 32, 512)\n",
            "LAYER GROUP 5\n",
            "--conv5_1 | shape=(1, 16, 32, 512) | weights_shape=(3, 3, 512, 512)\n",
            "--relu5_1 | shape=(1, 16, 32, 512) | bias_shape=(512,)\n",
            "--conv5_2 | shape=(1, 16, 32, 512) | weights_shape=(3, 3, 512, 512)\n",
            "--relu5_2 | shape=(1, 16, 32, 512) | bias_shape=(512,)\n",
            "--conv5_3 | shape=(1, 16, 32, 512) | weights_shape=(3, 3, 512, 512)\n",
            "--relu5_3 | shape=(1, 16, 32, 512) | bias_shape=(512,)\n",
            "--conv5_4 | shape=(1, 16, 32, 512) | weights_shape=(3, 3, 512, 512)\n",
            "--relu5_4 | shape=(1, 16, 32, 512) | bias_shape=(512,)\n",
            "--pool5   | shape=(1, 8, 16, 512)\n",
            "2022-07-06 18:25:27.267796: I tensorflow/stream_executor/platform/default/dso_loader.cc:44] Successfully opened dynamic library libcudnn.so.7\n",
            "2022-07-06 18:25:28.376964: I tensorflow/stream_executor/platform/default/dso_loader.cc:44] Successfully opened dynamic library libcublas.so.10\n",
            "WARNING:tensorflow:\n",
            "The TensorFlow contrib module will not be included in TensorFlow 2.0.\n",
            "For more information, please see:\n",
            "  * https://github.com/tensorflow/community/blob/master/rfcs/20180907-contrib-sunset.md\n",
            "  * https://github.com/tensorflow/addons\n",
            "  * https://github.com/tensorflow/io (for I/O related ops)\n",
            "If you depend on functionality not listed there, please file an issue.\n",
            "\n",
            "WARNING:tensorflow:From /tensorflow-1.15.2/python3.7/tensorflow_core/python/ops/math_grad.py:1375: where (from tensorflow.python.ops.array_ops) is deprecated and will be removed in a future version.\n",
            "Instructions for updating:\n",
            "Use tf.where in 2.0, which has the same broadcast rule as np.where\n",
            "\n",
            "MINIMIZING LOSS USING: L-BFGS OPTIMIZER\n",
            "WARNING:tensorflow:From neural_style_edit.py:602: The name tf.global_variables_initializer is deprecated. Please use tf.compat.v1.global_variables_initializer instead.\n",
            "\n",
            "RUNNING THE L-BFGS-B CODE\n",
            "\n",
            "           * * *\n",
            "\n",
            "Machine precision = 2.220D-16\n",
            " N =       374784     M =           10\n",
            " This problem is unconstrained.\n",
            "\n",
            "At X0         0 variables are exactly at the bounds\n",
            "\n",
            "At iterate    0    f=  7.24989D+11    |proj g|=  8.88904D+05\n",
            "\n",
            "At iterate   50    f=  5.74672D+09    |proj g|=  3.17984D+04\n",
            "\n",
            "At iterate  100    f=  2.82704D+09    |proj g|=  2.27989D+04\n",
            "\n",
            "At iterate  150    f=  2.09107D+09    |proj g|=  1.14477D+04\n",
            "\n",
            "At iterate  200    f=  1.82738D+09    |proj g|=  6.18305D+03\n",
            "\n",
            "At iterate  250    f=  1.69676D+09    |proj g|=  4.42707D+03\n",
            "\n",
            "At iterate  300    f=  1.62102D+09    |proj g|=  3.51521D+03\n",
            "\n",
            "At iterate  350    f=  1.57234D+09    |proj g|=  2.39811D+03\n",
            "\n",
            "At iterate  400    f=  1.53850D+09    |proj g|=  4.41919D+03\n",
            "\n",
            "At iterate  450    f=  1.51742D+09    |proj g|=  1.86044D+03\n",
            "\n",
            "At iterate  500    f=  1.49918D+09    |proj g|=  4.58133D+03\n",
            "\n",
            "At iterate  550    f=  1.48542D+09    |proj g|=  1.09293D+03\n",
            "\n",
            "At iterate  600    f=  1.47385D+09    |proj g|=  1.42321D+03\n",
            "\n",
            "At iterate  650    f=  1.46412D+09    |proj g|=  1.22765D+03\n",
            "\n",
            "At iterate  700    f=  1.45550D+09    |proj g|=  1.05801D+03\n",
            "\n",
            "At iterate  750    f=  1.44827D+09    |proj g|=  2.35037D+03\n",
            "\n",
            "At iterate  800    f=  1.44213D+09    |proj g|=  1.20044D+03\n",
            "\n",
            "           * * *\n",
            "\n",
            "Tit   = total number of iterations\n",
            "Tnf   = total number of function evaluations\n",
            "Tnint = total number of segments explored during Cauchy searches\n",
            "Skip  = number of BFGS updates skipped\n",
            "Nact  = number of active bounds at final generalized Cauchy point\n",
            "Projg = norm of the final projected gradient\n",
            "F     = final function value\n",
            "\n",
            "           * * *\n",
            "\n",
            "   N    Tit     Tnf  Tnint  Skip  Nact     Projg        F\n",
            "*****    800    833      1     0     0   1.200D+03   1.442D+09\n",
            "  F =   1442129664.0000000     \n",
            "\n",
            "STOP: TOTAL NO. of ITERATIONS REACHED LIMIT                 \n",
            "Single image elapsed time: 57.324151039123535\n"
          ]
        }
      ]
    },
    {
      "cell_type": "markdown",
      "metadata": {
        "id": "JqHEVFf8hyy3"
      },
      "source": [
        "#**PART 03 | VIDEO FRAMES**"
      ]
    },
    {
      "cell_type": "markdown",
      "metadata": {
        "id": "DMwE_2q2kxHy"
      },
      "source": [
        "*Video Frame Specific Arguments*  \n",
        "\n",
        "*   `video`: Boolean flag indicating if the user is creating a video.\n",
        "*   `start_frame`: First frame number. Default: 1\n",
        "-`end_frame`: Last frame number. Default: 1\n",
        "-`first_frame_type`: Image used to initialize the network during the rendering of the first frame. Choices: content, random, style. Default: random\n",
        "-`init_frame_type`: Image used to initialize the network during the every rendering after the first frame. Choices: prev_warped, prev, content, random, style. Default: prev_warped\n",
        "-`video_input_dir`: Relative or absolute directory path to input frames. Default: ./video_input\n",
        "-`video_output_dir`: Relative or absolute directory path to write output frames to. Default: ./video_output\n",
        "-`content_frame_frmt`: Format string of input frames. Default: frame_{}.png\n",
        "-`content_weights_frmt`: Format string of optical flow consistency files. Default: reliable_{}_{}.txt\n",
        "-`first_frame_iterations`: Maximum number of optimizer iterations of the first frame. Default: 2000\n",
        "-`frame_iterations`: Maximum number of optimizer iterations for each frame after the first frame. Default: 800"
      ]
    },
    {
      "cell_type": "markdown",
      "metadata": {
        "id": "WHE_aHfbi681"
      },
      "source": [
        "**STEP 06:** Set Parameters for Video and Run it   \n",
        "The output frames will show up in the video_output folder."
      ]
    },
    {
      "cell_type": "code",
      "metadata": {
        "id": "_6o0kd9gh7BJ"
      },
      "source": [
        "!python neural_style_edit.py --video --video_input_dir ./video_input/my_video_frames --style_imgs cg1.jpg  --content_frame_frmt collage_{}.png --content_weight 5 --style_weight 1000 --temporal_weight 1000   --content_layer_weights 1 --start_frame 1 --end_frame 4 --max_size 512 --first_frame_iterations 800 --frame_iterations 800 --verbose --init_frame_type style --first_frame_type style"
      ],
      "execution_count": null,
      "outputs": []
    },
    {
      "cell_type": "markdown",
      "metadata": {
        "id": "KgqWnulQzQFZ"
      },
      "source": [
        "This notebook was put together by Laure Michelon at https://github.com/laure-m"
      ]
    }
  ]
}